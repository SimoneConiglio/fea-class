{
 "cells": [
  {
   "cell_type": "markdown",
   "metadata": {},
   "source": [
    "# Quadratic finite elements for trusses\n",
    "\n",
    "1. Determine the quadratic interpolating function of the displacement field (using the isporametric\n",
    "coordinate $\\xi \\in [-1, 1]$) in a linearly elastic bar \n",
    "\n",
    "$$\n",
    "u(\\xi) = \\mathbf{N} \\mathbf{u}, \\qquad \\mathbf{N} = \\begin{bmatrix} N_1(\\xi) & N_2(\\xi) & N_3(\\xi) \\end{bmatrix}, \\quad \\mathbf{u} = \\begin{pmatrix} u_1 \\\\ u_2 \\\\ u_3  \\end{pmatrix}\n",
    "$$\n",
    "\n",
    "2. By using the appropriate Gauss-Legendre quadrature formulas, give the minimal and maximal\n",
    "numbers of integration points that are required to accurately compute the stiffness matrix and\n",
    "the consistent mass matrix (no mass lumping), while considering the following bar section cases:\n",
    "\n",
    "    + linearly varying section area;\n",
    "    + constant section area; also compute explicitly the stiffness matrix for this case."
   ]
  },
  {
   "cell_type": "markdown",
   "metadata": {},
   "source": [
    "# Refresher: Gauss-Legendre quadrature formulas\n",
    "\n",
    "The Gauss-Legendre nodes allows to compute a polynomial integrand of degree $2n-1$ exactly by evaluating it at $n$ specific location via the formula\n",
    "\n",
    "$$\n",
    "\\int_{-1}^1 p_{2n-1}(\\xi) d \\xi = \\sum_{k=1}^{n} \\omega_i \\, p_{2n-1}(\\xi_i), \\qquad p_{2n-1} \\text{ polynomial of degree } 2n-1.\n",
    "$$\n",
    "\n",
    "Here' as a table reporting the nodes and weights up to the case $n=4$\n",
    "\n",
    "| Number of Nodes | Nodes locations $\\xi_i$            | Weights $\\omega_i$               |\n",
    "|-----------------|------------------------------------|----------------------------------|\n",
    "| 1               | 0                                  | 2                                |\n",
    "| 2               | ($-\\sqrt{1/3}$, $\\sqrt{1/3}$)      | (1, 1)                           |\n",
    "| 3               | 0<br> $\\pm \\sqrt{3∕5}$             | $8/9$<br> $5/9$                  |\n",
    "| 4               | $\\pm \\frac{\\sqrt{3-2\\sqrt{6/5}}}{\\sqrt{7}}$ <br> $\\pm \\frac{\\sqrt{3+2\\sqrt{6/5}}}{\\sqrt{7}}$   | $\\frac{18 + \\sqrt{30}}{36}$<br>$\\frac{18 - \\sqrt{30}}{36}$ |\n",
    "\n"
   ]
  },
  {
   "cell_type": "markdown",
   "metadata": {},
   "source": []
  },
  {
   "cell_type": "markdown",
   "metadata": {},
   "source": []
  }
 ],
 "metadata": {
  "language_info": {
   "name": "python"
  }
 },
 "nbformat": 4,
 "nbformat_minor": 2
}
