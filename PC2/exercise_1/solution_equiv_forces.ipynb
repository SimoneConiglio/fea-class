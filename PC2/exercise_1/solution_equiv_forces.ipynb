{
 "cells": [
  {
   "cell_type": "markdown",
   "metadata": {},
   "source": [
    "# Mesh structure\n",
    "\n",
    "To set up the finite element problem, the table of coordinates and connectivity need to be set. Since only one element is considered, the meash is really simple\n",
    "1. Nodal coordinates\n",
    "\n",
    "|Global node number| $x$ | $y$ |           \n",
    "|---|---|---|\n",
    "| 1 | 0 | 0 |\n",
    "| 2 | $L$ | $0$  |\n",
    "\n",
    "\n",
    "2. Connectivity table\n",
    "\n",
    "|Element| Left node (1) | Right Node (2) |           \n",
    "|---|---|---|\n",
    "| 1 | 1 | 2 |\n",
    "\n"
   ]
  },
  {
   "cell_type": "markdown",
   "metadata": {},
   "source": [
    "In order to find the equivalent node at the extremities, the virtual work principle is invoked. The virtual work performed by the external load is given by\n",
    "\n",
    "$$\n",
    "\\delta W = \\int_0^L \\delta v\\,  p\\, dx\n",
    "$$\n",
    "\n",
    "The displacement is computed via the finite element expansion $v = \\mathbf{N} \\mathbf{v}$\n",
    " where \n",
    " $$N = \\begin{pmatrix} N_1 & N_2 & N_3 & N_4 \\end{pmatrix}, \\qquad \\mathbf{v} = \\begin{pmatrix} v_1 & \\phi_1 & v_2 & \\phi_2 \\end{pmatrix}^\\top.$$\n",
    "\n",
    " Plugging the approximation in the virtual work it is obtained\n",
    "\n",
    "$$\n",
    "\\delta W = \\delta \\mathbf{v}^\\top \\int_0^L \\mathbf{N}^\\top \\, p\\,dx = \\delta \\mathbf{v}^\\top \\mathbf{f}.\n",
    "$$\n",
    "\n",
    "So the expression of the generalized force is given by\n",
    "\n",
    "$$\n",
    "\\mathbf{f} = \\int_0^L \\mathbf{N}^\\top \\, p\\,dx\n",
    "$$\n",
    "\n",
    "Developing the computations \n",
    "\n",
    "\\begin{align*}\n",
    "f_1 &= \\int_0^L \\left(1 - \\frac{3 x^2}{L^2} + \\frac{2x^3}{L^3}\\right) \\, \\left(p_1 + (p_2-p_1)\\frac{x}{L}\\right)\\,dx = 0, \\\\\n",
    "f_2 &= \\int_0^L \\left(x - \\frac{2 x^2}{L} + \\frac{x^3}{L^2}\\right) \\, \\left(p_1 + (p_2-p_1)\\frac{x}{L}\\right)\\,dx, \\\\\n",
    "f_3 &= \\int_0^L \\left(\\frac{3x^2}{L^2} - \\frac{2x^3}{L^3}\\right) \\, \\left(p_1 + (p_2-p_1)\\frac{x}{L}\\right)\\,dx, \\\\\n",
    "f_4 &= \\int_0^L \\left(-\\frac{x^2}{L} +\\frac{x^3}{L^2}\\right)\\, \\left(p_1 + (p_2-p_1)\\frac{x}{L}\\right)\\,dx.\n",
    "\\end{align*}\n",
    "\n",
    "This computations can be performed in python using the sympy librairy and rescaling the integral to 1 by intrucing $\\xi = x/L$"
   ]
  },
  {
   "cell_type": "code",
   "execution_count": 1,
   "metadata": {},
   "outputs": [
    {
     "data": {
      "text/latex": [
       "$\\displaystyle \\left[\\begin{matrix}\\frac{7 L p_{1}}{20} + \\frac{3 L p_{2}}{20}\\\\\\frac{L^{2} p_{1}}{20} + \\frac{L^{2} p_{2}}{30}\\\\\\frac{3 L p_{1}}{20} + \\frac{7 L p_{2}}{20}\\\\- \\frac{L^{2} p_{1}}{30} - \\frac{L^{2} p_{2}}{20}\\end{matrix}\\right]$"
      ],
      "text/plain": [
       "Matrix([\n",
       "[   7*L*p_1/20 + 3*L*p_2/20],\n",
       "[ L**2*p_1/20 + L**2*p_2/30],\n",
       "[   3*L*p_1/20 + 7*L*p_2/20],\n",
       "[-L**2*p_1/30 - L**2*p_2/20]])"
      ]
     },
     "execution_count": 1,
     "metadata": {},
     "output_type": "execute_result"
    }
   ],
   "source": [
    "import sympy as sp\n",
    "\n",
    "p_1 = sp.symbols('p_1')\n",
    "p_2 = sp.symbols('p_2')\n",
    "L = sp.symbols('L')\n",
    "xi = sp.symbols('xi')\n",
    "\n",
    "load = p_1 + (p_2 - p_1) * xi\n",
    "jacobian = L\n",
    "\n",
    "N_1 = 1 - 3 * xi**2 + 2*xi**3\n",
    "N_2 = (xi - 2*xi**2 + xi**3)*L\n",
    "N_3 = 3*xi**2 - 2*xi**3\n",
    "N_4 = (-xi**2 + xi**3)*L\n",
    "\n",
    "N_vec = sp.Matrix([N_1, N_2, N_3, N_4])\n",
    "\n",
    "f = sp.integrate(N_vec*load*jacobian, (xi, 0, 1))\n",
    "\n",
    "f"
   ]
  },
  {
   "cell_type": "markdown",
   "metadata": {},
   "source": [
    "If the load is constant, the result is given by"
   ]
  },
  {
   "cell_type": "code",
   "execution_count": 11,
   "metadata": {},
   "outputs": [
    {
     "data": {
      "text/latex": [
       "$\\displaystyle \\left[\\begin{matrix}\\frac{L p}{2}\\\\\\frac{L^{2} p}{12}\\\\\\frac{L p}{2}\\\\- \\frac{L^{2} p}{12}\\end{matrix}\\right]$"
      ],
      "text/plain": [
       "Matrix([\n",
       "[     L*p/2],\n",
       "[ L**2*p/12],\n",
       "[     L*p/2],\n",
       "[-L**2*p/12]])"
      ]
     },
     "execution_count": 11,
     "metadata": {},
     "output_type": "execute_result"
    }
   ],
   "source": [
    "p = sp.symbols('p')\n",
    "f = sp.integrate(N_vec*p*jacobian, (xi, 0, 1))\n",
    "f"
   ]
  }
 ],
 "metadata": {
  "kernelspec": {
   "display_name": "base",
   "language": "python",
   "name": "python3"
  },
  "language_info": {
   "codemirror_mode": {
    "name": "ipython",
    "version": 3
   },
   "file_extension": ".py",
   "mimetype": "text/x-python",
   "name": "python",
   "nbconvert_exporter": "python",
   "pygments_lexer": "ipython3",
   "version": "3.11.8"
  }
 },
 "nbformat": 4,
 "nbformat_minor": 2
}
