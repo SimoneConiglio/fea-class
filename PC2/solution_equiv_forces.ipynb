{
 "cells": [
  {
   "cell_type": "markdown",
   "metadata": {},
   "source": [
    "# Mesh structure\n",
    "\n",
    "To set up the finite element problem, the table of coordinates and connectivity need to be set. Since only one element is considered, the meash is really simple\n",
    "1. Nodal coordinates\n",
    "\n",
    "|Global node number| $x$ | $y$ |           \n",
    "|---|---|---|\n",
    "| 1 | 0 | 0 |\n",
    "| 2 | $L$ | $0$  |\n",
    "\n",
    "\n",
    "2. Connectivity table\n",
    "\n",
    "|Element| Left node (1) | Right Node (2) |           \n",
    "|---|---|---|\n",
    "| 1 | 1 | 2 |\n",
    "\n"
   ]
  },
  {
   "cell_type": "markdown",
   "metadata": {},
   "source": []
  }
 ],
 "metadata": {
  "language_info": {
   "name": "python"
  }
 },
 "nbformat": 4,
 "nbformat_minor": 2
}
