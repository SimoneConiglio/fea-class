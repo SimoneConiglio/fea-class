{
 "cells": [
  {
   "cell_type": "markdown",
   "metadata": {},
   "source": [
    "# Complementary strain energy approach: Euler Bernoulli beam\n",
    "\n",
    "\n",
    "The internal shear force and bending moment are easily computed from the equilibrium equations\n",
    "\n",
    "\\begin{align*}\n",
    "T_y(x) &= F, \\\\\n",
    "M_z(x) &= M + F(L - x)\n",
    "\\end{align*}\n",
    "\n",
    "The complementary strain energy density is given by\n",
    "\n",
    "$$\n",
    "\\psi^* = \\int_0^\\sigma \\frac{\\tilde{\\sigma}_{xx}}{E} d\\tilde{\\sigma}_{xx} = \\frac{\\sigma_{xx}^2}{2 E} \n",
    "$$\n",
    "\n",
    "Therefore the complementary bending energy is\n",
    "$$\n",
    "E_{\\rm bd}^* = \\frac{1}{2}\\int_0^L \\frac{M_z^2}{E I_z}  dx = \\frac{1}{2}\\int_0^L \\frac{(M + F(L - x))^2}{E I_z} dx \n",
    "$$\n",
    "\n",
    "By linearity $E_{\\rm bd}^* = E_{\\rm bd}$. By Castigliano theorem, it is possible to obtain the compliance matrix directly\n",
    "\n",
    "$$ \\displaystyle\n",
    "\\begin{pmatrix}\n",
    "v_2 \\\\ \\phi_2\n",
    "\\end{pmatrix} = \n",
    "\\begin{pmatrix}\n",
    "\\frac{\\partial E_{\\rm bd}}{\\partial F} \\\\\n",
    "\\frac{\\partial E_{\\rm bd}}{\\partial M} \n",
    "\\end{pmatrix}\n",
    "$$\n",
    "\n",
    "Developing the computations:\n",
    "\n",
    "\\begin{align*}\n",
    "\\frac{\\partial E_{\\rm bd}}{\\partial F} &= \\int_0^L \\frac{M + F(L - x)}{E I_z}(L-x)  dx = \n",
    "\\begin{bmatrix}\n",
    "\\frac{L^3}{3 E I_z} & \\frac{L^2}{2 E I_z}\n",
    "\\end{bmatrix}\n",
    "\\begin{pmatrix}\n",
    "F \\\\ M\n",
    "\\end{pmatrix} \\\\\n",
    "\\frac{\\partial E_{\\rm bd}}{\\partial F} &= \\int_0^L \\frac{M + F(L - x)}{E I_z}  dx = \n",
    "\\begin{bmatrix}\n",
    "\\frac{L^2}{2 E I_z} & \\frac{L}{E I_z}\n",
    "\\end{bmatrix}\n",
    "\\begin{pmatrix}\n",
    "F \\\\ M\n",
    "\\end{pmatrix}\n",
    "\\end{align*}\n",
    "\n",
    "Therefore the displecement are given by \n",
    "\n",
    "$$\n",
    "\\begin{pmatrix}\n",
    "v_2 \\\\ \\phi_2\n",
    "\\end{pmatrix} = \n",
    "\\begin{bmatrix}\n",
    "\\frac{L^3}{3 E I_z} & \\frac{L^2}{2 E I_z} \\\\\n",
    "\\frac{L^2}{2 E I_z} & \\frac{L}{E I_z}\n",
    "\\end{bmatrix}\n",
    "\\begin{pmatrix}\n",
    "F \\\\ M\n",
    "\\end{pmatrix}\n",
    "$$\n",
    "\n",
    "From this relation, the compliance matrix is obtained and the stiffness matrix is simply obtained as \n",
    "\n",
    "$$\\mathbf{K} = \\mathbf{S}^{-1} = \\frac{EI_z}{L^3} \\begin{bmatrix}\n",
    "12 & -6 L \\\\\n",
    "-6 L & 4L^2\n",
    "\\end{bmatrix}$$\n",
    "\n",
    "The calculation can be checked with the following Python code"
   ]
  },
  {
   "cell_type": "code",
   "execution_count": 19,
   "metadata": {},
   "outputs": [
    {
     "name": "stdout",
     "output_type": "stream",
     "text": [
      "Displacement: \n"
     ]
    },
    {
     "data": {
      "text/latex": [
       "$\\displaystyle \\frac{L^{2} \\left(\\frac{F L}{3} + \\frac{M}{2}\\right)}{EI}$"
      ],
      "text/plain": [
       "<IPython.core.display.Math object>"
      ]
     },
     "metadata": {},
     "output_type": "display_data"
    },
    {
     "name": "stdout",
     "output_type": "stream",
     "text": [
      "Rotation: \n"
     ]
    },
    {
     "data": {
      "text/latex": [
       "$\\displaystyle \\frac{L \\left(F L + 2 M\\right)}{2 EI}$"
      ],
      "text/plain": [
       "<IPython.core.display.Math object>"
      ]
     },
     "metadata": {},
     "output_type": "display_data"
    }
   ],
   "source": [
    "import sympy as sp\n",
    "from IPython.display import display, Math\n",
    "\n",
    "M = sp.symbols('M')\n",
    "F = sp.symbols('F')\n",
    "L = sp.symbols('L')\n",
    "EI = sp.symbols('EI')\n",
    "x = sp.symbols('x')\n",
    "\n",
    "energy_density = (M + F * (L-x))**2/(2*EI)\n",
    "\n",
    "energy = sp.integrate(energy_density, (x, 0, L))\n",
    "\n",
    "displacement = sp.simplify(sp.diff(energy, F))\n",
    "rotation = sp.simplify(sp.diff(energy, M))\n",
    "\n",
    "print('Displacement: ')\n",
    "display(Math(sp.latex(displacement)))\n",
    "print('Rotation: ')\n",
    "display(Math(sp.latex(rotation)))"
   ]
  },
  {
   "cell_type": "markdown",
   "metadata": {},
   "source": [
    "# Complementary strain energy approach: Timoshenko beam model\n",
    "The Timoshenko beam model does not impose that the cross section remains perperdicular to the beam axis during rotation. Consequently, it allows accounting for the shear strain\n",
    "$$\n",
    "\\gamma_{xy} = 2 \\varepsilon_{xy} = \\frac{dv}{dx} - \\phi_z\n",
    "$$\n",
    "\n",
    "The shear modulus relates the shear strain and stress $\\sigma_{xy} = G \\gamma_{xy}$. The resultant shear force is obtained by integrating the shear stress over the cross section\n",
    "\n",
    "$$\n",
    "T_y = \\int_A \\sigma_{xy} dx = A G \\gamma_{xy}\n",
    "$$\n",
    "since the strain is constant over the section. This results in a higher rigidity to what the 3D theory of elasticity would predict. This is due to the fact that the actual trend of the shear stress is not captured (for equilibrium the stress should go to zero when the lateral sides of the beam are approached). To improve the accuracy of the shear stiffness, a correction factor is introduced in the area as follows\n",
    "\n",
    "$$\n",
    "T_y = k A G \\gamma_{xy}, \\qquad A_{\\rm eff} = k A\n",
    "$$\n",
    "\n",
    "The complementary energy for the Timoshenko beam reads\n",
    "\n",
    "$$\n",
    "E_{\\rm bd+sh}^* = \\int_0^L \\left[\\frac{(M + F(L-x))^2}{2 E I_z} + \\frac{F^2}{2 G A_{\\rm eff}} \\right] dx\n",
    "$$\n",
    "\n",
    "According to Castigliano theorem, it follows\n",
    "\n",
    "$$ \\displaystyle\n",
    "\\begin{pmatrix}\n",
    "v_2 \\\\ \\phi_2\n",
    "\\end{pmatrix} = \n",
    "\\begin{pmatrix}\n",
    "\\frac{\\partial E_{\\rm bd+sh}}{\\partial F} \\\\\n",
    "\\frac{\\partial E_{\\rm bd+sh}}{\\partial M} \n",
    "\\end{pmatrix} =\n",
    "\\begin{bmatrix}\n",
    "\\left(\\frac{L^3}{3EI_z} + \\frac{L}{G A_{\\rm eff}}  \\right) & \\frac{L^2}{2E I_z} \\\\\n",
    "\\frac{L^2}{2E I_z} & \\frac{L}{E I_z}\n",
    "\\end{bmatrix}\n",
    "\\begin{pmatrix}\n",
    "F \\\\ M\n",
    "\\end{pmatrix}\n",
    "$$\n",
    "\n",
    "The compliance matrix is $\\mathbf{S} = \\frac{1}{EI_z}\\begin{bmatrix}\n",
    "\\frac{L^3}{3}\\left(1 + \\frac{\\Psi}{4}\\right) & \\frac{L^2}{2} \\\\\n",
    "\\frac{L^2}{2} & L\n",
    "\\end{bmatrix}$\n",
    "\n",
    "The quantity $\\Psi$ defined as $\\Psi := \\frac{12 EI_z}{G A_{\\rm eff} L^2}$ is the bending to transverse shear ratio. \n",
    "\n",
    "The stiffness is deduced by inversion of the compliance matrix\n",
    "\n",
    "$$\\mathbf{K} = \\mathbf{S}^{-1} = \\frac{EI_z}{L^3(1 +\\Psi)} \\begin{bmatrix}\n",
    "12 & - 6 L \\\\\n",
    "- 6 L & (4 + \\Psi) L^2\n",
    "\\end{bmatrix}\n",
    "$$\n",
    "\n",
    "\n",
    "The computations can be checked via the following code:"
   ]
  },
  {
   "cell_type": "code",
   "execution_count": 23,
   "metadata": {},
   "outputs": [
    {
     "name": "stdout",
     "output_type": "stream",
     "text": [
      "Displacement: \n"
     ]
    },
    {
     "data": {
      "text/latex": [
       "$\\displaystyle \\frac{F L^{3}}{3 EI} + \\frac{L^{2} M}{2 EI} + \\frac{F L}{A_{eff} G}$"
      ],
      "text/plain": [
       "<IPython.core.display.Math object>"
      ]
     },
     "metadata": {},
     "output_type": "display_data"
    },
    {
     "name": "stdout",
     "output_type": "stream",
     "text": [
      "Rotation: \n"
     ]
    },
    {
     "data": {
      "text/latex": [
       "$\\displaystyle \\frac{L \\left(F L + 2 M\\right)}{2 EI}$"
      ],
      "text/plain": [
       "<IPython.core.display.Math object>"
      ]
     },
     "metadata": {},
     "output_type": "display_data"
    }
   ],
   "source": [
    "import sympy as sp\n",
    "from IPython.display import display, Math\n",
    "\n",
    "M = sp.symbols('M')\n",
    "F = sp.symbols('F')\n",
    "L = sp.symbols('L')\n",
    "EI = sp.symbols('EI')\n",
    "x = sp.symbols('x')\n",
    "A_eff = sp.symbols('A_{eff}')\n",
    "G = sp.symbols('G')\n",
    "\n",
    "energy_density = (M + F * (L-x))**2/(2*EI) + F**2/(2*A_eff*G)\n",
    "\n",
    "energy = sp.integrate(energy_density, (x, 0, L))\n",
    "\n",
    "displacement = sp.simplify(sp.diff(energy, F))\n",
    "rotation = sp.simplify(sp.diff(energy, M))\n",
    "\n",
    "print('Displacement: ')\n",
    "display(Math(sp.latex(displacement)))\n",
    "print('Rotation: ')\n",
    "display(Math(sp.latex(rotation)))"
   ]
  },
  {
   "cell_type": "markdown",
   "metadata": {},
   "source": [
    "# Classical costruction of the stiffness matrix for the free structure\n",
    "\n",
    "\n",
    "## Euler Bernoulli beam\n",
    "The stiffness matrix can be computed by expressing the  energy in terms of the finite element expansion\n",
    "\n",
    "$$\n",
    "E_{\\rm bd} = \\int_0^L \\frac{EI_z}{2} \\left(\\frac{d^2 v}{d^2 x} \\right)^2 dx\n",
    "$$\n",
    "Using the Hermite polynomials the stiffness matrix can be computed as\n",
    "\n",
    "$$\n",
    "\\mathbf{K} = \\int_0^L EI_z  \\left(\\frac{d^2 \\bf{N}^\\top}{d^2 x}\\right)\\left(\\frac{d^2 \\bf{N}}{d^2 x} \\right) dx. \n",
    "$$\n",
    "In the literature the following notation is typically used: $\\displaystyle \\mathbf{B} = \\frac{d^2 \\bf{N}}{d^2 x}$. Performing the double derivative one finds\n",
    "\n",
    "$$\n",
    "\\mathbf{B} = \\frac{d^2 \\bf{N}}{d^2 x} = \\begin{bmatrix}\n",
    "-\\frac{6}{L^2} + \\frac{12x}{L^3} & -\\frac{4}{L} + \\frac{6x}{L^2} & \\frac{6}{L^2} - \\frac{12x}{L^3} & -\\frac{2}{L} + \\frac{6x}{L^2} \\\\\n",
    "\\end{bmatrix}\n",
    "$$\n",
    "\n",
    "The stiffness is therefore given by $\\mathbf{K} = \\int_{0}^L EI_z \\mathbf{B}^\\top \\mathbf{B} dx$\n",
    "\n",
    "$$\n",
    "\\mathbf{K} = \n",
    "\\begin{bmatrix}\n",
    "\\frac{12 EI}{L^{3}} & \\frac{6 EI}{L^{2}} & - \\frac{12 EI}{L^{3}} & \\frac{6 EI}{L^{2}} \\\\\n",
    "\\frac{6 EI}{L^{2}} & \\frac{4 EI}{L} & - \\frac{6 EI}{L^{2}} & \\frac{2 EI}{L} \\\\\n",
    "- \\frac{12 EI}{L^{3}} & - \\frac{6 EI}{L^{2}} & \\frac{12 EI}{L^{3}} & - \\frac{6 EI}{L^{2}} \\\\\n",
    "\\frac{6 EI}{L^{2}} & \\frac{2 EI}{L} & - \\frac{6 EI}{L^{2}} & \\frac{4 EI}{L}\n",
    "\\end{bmatrix}\n",
    "$$\n",
    "This python code computes the stiffness matrix \n"
   ]
  },
  {
   "cell_type": "code",
   "execution_count": 17,
   "metadata": {},
   "outputs": [
    {
     "data": {
      "text/plain": [
       "'\\\\left[\\\\begin{matrix}\\\\frac{12 EI}{L^{3}} & \\\\frac{6 EI}{L^{2}} & - \\\\frac{12 EI}{L^{3}} & \\\\frac{6 EI}{L^{2}}\\\\\\\\\\\\frac{6 EI}{L^{2}} & \\\\frac{4 EI}{L} & - \\\\frac{6 EI}{L^{2}} & \\\\frac{2 EI}{L}\\\\\\\\- \\\\frac{12 EI}{L^{3}} & - \\\\frac{6 EI}{L^{2}} & \\\\frac{12 EI}{L^{3}} & - \\\\frac{6 EI}{L^{2}}\\\\\\\\\\\\frac{6 EI}{L^{2}} & \\\\frac{2 EI}{L} & - \\\\frac{6 EI}{L^{2}} & \\\\frac{4 EI}{L}\\\\end{matrix}\\\\right]'"
      ]
     },
     "execution_count": 17,
     "metadata": {},
     "output_type": "execute_result"
    }
   ],
   "source": [
    "import sympy as sp\n",
    "\n",
    "EI = sp.symbols('EI')\n",
    "L = sp.symbols('L')\n",
    "x = sp.symbols('x')\n",
    "\n",
    "B_1 = - 6/L**2 + 12*x/L**3\n",
    "B_2 = - 4/L + 6*x/L**2\n",
    "B_3 = + 6/L**2 - 12*x/L**3\n",
    "B_4 = - 2/L + 6*x/L**2\n",
    "\n",
    "B_vec = sp.Matrix([[B_1, B_2, B_3, B_4]])\n",
    "\n",
    "BT = sp.transpose(B_vec)\n",
    "BTB = BT * B_vec\n",
    "K = sp.sympify(EI * sp.integrate(BTB, (x, 0, L)))\n",
    "\n",
    "K"
   ]
  },
  {
   "cell_type": "markdown",
   "metadata": {},
   "source": [
    "## Complement: Timoshenko beam\n",
    "\n",
    "For the Timoshenko beam an additional variable needs to be considered, i.e. the rotation of the cross section. The interpolation functions for the rotations, are taken to be the derivative of the Hermite polynomials (modulo a scaling factor). For the vertical displacement the interpolation functions are taken to be the Hermite polynomials plus a correction.\n",
    "\n",
    "$$\n",
    "v(x) = \\mathbf{N}_v \\mathbf{v}, \\qquad\n",
    "\\phi(x) = \\mathbf{N}_\\phi\\mathbf{v}\n",
    "$$\n",
    "The interpolation functions for $v$ are given by\n",
    "$$\n",
    "\\mathbf{N}_v^\\top = \\begin{bmatrix}\n",
    "\\mathbf{N}_{1v} \\\\\n",
    "\\mathbf{N}_{2v} \\\\\n",
    "\\mathbf{N}_{3v} \\\\\n",
    "\\mathbf{N}_{4v} \\\\\n",
    "\\end{bmatrix} = \\begin{bmatrix}\n",
    "\\frac{2{N}_{1} + \\Psi(1 - x/L)}{2(1 + \\Psi)} \\\\\n",
    "\\frac{2{N}_{2} + \\Psi x(1 - x/L)}{2(1 + \\Psi)} \\\\\n",
    "\\frac{2{N}_{3} + \\Psi x/L}{2(1 + \\Psi)} \\\\\n",
    "\\frac{2{N}_{4} - \\Psi x(1 - x/L)}{2(1 + \\Psi)} \\\\\n",
    "\\end{bmatrix} \n",
    "$$phi\n",
    "where $N_i, \\; i \\in \\{1, 2, 3, 4\\}$ are the Hermite polynomials. For the rotation the intepolation functions are given by\n",
    "\n",
    "$$\n",
    "\\mathbf{N}_\\phi^\\top = \\begin{bmatrix}\n",
    "\\mathbf{N}_{1\\phi} \\\\\n",
    "\\mathbf{N}_{2\\phi} \\\\\n",
    "\\mathbf{N}_{3\\phi} \\\\\n",
    "\\mathbf{N}_{4\\phi} \\\\\n",
    "\\end{bmatrix} = \\begin{bmatrix}\n",
    "(1 + \\Psi)^{-1} \\frac{dN_1}{dx} \\\\\n",
    "L (1 + \\Psi)^{-1} (\\frac{dN_2}{dx} + \\Psi(1 - x/L)) \\\\\n",
    "(1 + \\Psi)^{-1} \\frac{dN_3}{dx} \\\\\n",
    "L (1 + \\Psi)^{-1} (\\frac{dN_2}{dx} + \\Psi x/L) \\\\\n",
    "\\end{bmatrix} \n",
    "$$\n",
    "\n",
    "Now the energy (that includes both bending and shear) is expressed in terms of the displacement and the rotation\n",
    "\n",
    "$$\n",
    "E(v,\\phi) = \\int_{0}^{L} \\left[ \\frac{EI_z}{2} \\left(\\frac{d\\phi}{dx} \\right)^2 + \\frac{GA_{\\rm eff}}{2} \\left(\\frac{dv}{dx} - \\phi\\right)^2  \\right] dx\n",
    "$$\n",
    "\n",
    "After some algebraic manipulations the stiffness matrix is obtained\n",
    "\n",
    "$$\n",
    "\\mathbf{K}_{T} = \\frac{EI_z}{L^3 (1 + \\Psi)} \\begin{bmatrix}\n",
    "12 & 6L & -12 & 6L \\\\\n",
    " & (4 + \\Psi) L^2 & -6L & (2 - \\Psi) L^2 \\\\\n",
    " & & 12 & -6L \\\\\n",
    " \\rm{sym} & & & (4 + \\Psi) L^2\n",
    "\\end{bmatrix}\n",
    "$$"
   ]
  },
  {
   "cell_type": "markdown",
   "metadata": {},
   "source": []
  }
 ],
 "metadata": {
  "kernelspec": {
   "display_name": "base",
   "language": "python",
   "name": "python3"
  },
  "language_info": {
   "codemirror_mode": {
    "name": "ipython",
    "version": 3
   },
   "file_extension": ".py",
   "mimetype": "text/x-python",
   "name": "python",
   "nbconvert_exporter": "python",
   "pygments_lexer": "ipython3",
   "version": "3.11.8"
  }
 },
 "nbformat": 4,
 "nbformat_minor": 2
}
