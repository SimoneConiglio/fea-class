{
 "cells": [
  {
   "cell_type": "markdown",
   "metadata": {},
   "source": [
    "# Stiffness matrix for a cantilever bending beam\n",
    "\n",
    "Compute the stiffness matrix of the bending beam model in the figure above using two approaches:\n",
    "1. by writing the strain complementary energy,\n",
    "2. from the compliance matrix\n",
    "\n",
    "when the shear strain related to the shear load:\n",
    "1. is neglected (Euler-Bernoulli’s thin beam case);\n",
    "2. is not neglected (Timoshenko’s relatively thick beam case).\n",
    "The beam in the $(x, y)$-plane is clamped at the node 1 and is submitted to both a shear force \n",
    "and a torque at the node 2.\n",
    "\n",
    "![\"Cantilever\"](cantilever_beam.svg)"
   ]
  },
  {
   "cell_type": "markdown",
   "metadata": {},
   "source": [
    "# Refresher: complementary strain energy\n",
    "Consider the following uniaxial stress-strain curve:\n",
    "\n",
    "![\"Energy\"](energy.svg)\n",
    "\n",
    "The strain energy density is the area underneath the stress-strain curve\n",
    "$$\n",
    "\\psi = \\int_0^{\\hat\\varepsilon} \\sigma \\, d\\varepsilon\n",
    "$$\n",
    "The complementary strain energy density is the complementaty area to obtain a rectangular area\n",
    "$$\n",
    "\\psi^* = \\int_0^{\\hat\\sigma} \\varepsilon \\, d\\sigma.\n",
    "$$\n",
    "\n",
    "In the linear case the two areas are equal, i.e. $\\psi = \\psi^*$.\n",
    "\n",
    "The complementary energy expresses the energy in terms of stress rather than in terms of strains and it is suitable when one wants to apply e.g. Castigliano theorem."
   ]
  },
  {
   "cell_type": "markdown",
   "metadata": {},
   "source": []
  }
 ],
 "metadata": {
  "language_info": {
   "name": "python"
  }
 },
 "nbformat": 4,
 "nbformat_minor": 2
}
